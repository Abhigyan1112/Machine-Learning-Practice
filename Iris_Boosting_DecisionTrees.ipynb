{
 "cells": [
  {
   "cell_type": "code",
   "execution_count": 3,
   "id": "491f34e3-f734-4a7d-b80b-b9a5fa3aa769",
   "metadata": {},
   "outputs": [
    {
     "name": "stdout",
     "output_type": "stream",
     "text": [
      "Boosting Model Accuracy:0.96\n"
     ]
    }
   ],
   "source": [
    "from sklearn.ensemble import GradientBoostingClassifier\n",
    "from sklearn.datasets import load_iris\n",
    "from sklearn.model_selection import train_test_split\n",
    "from sklearn.metrics import accuracy_score\n",
    "\n",
    "#Load dataset\n",
    "iris=load_iris()\n",
    "X,Y=iris.data,iris.target\n",
    "\n",
    "#train_test split\n",
    "X_train,X_test,Y_train,Y_test=train_test_split(X,Y,test_size=0.3,random_state=42)\n",
    "\n",
    "#Initialize the bagging model for the base_model\n",
    "boosting_model=GradientBoostingClassifier(n_estimators=100,learning_rate=1.0,max_depth=1,random_state=42)\n",
    "\n",
    "#Train the Bagging model\n",
    "boosting_model.fit(X_train,Y_train)\n",
    "\n",
    "#Make predicitons\n",
    "Y_pred=boosting_model.predict(X_test)\n",
    "\n",
    "#Evaluation\n",
    "accuracy=accuracy_score(Y_test,Y_pred)\n",
    "print(f'Boosting Model Accuracy:{accuracy:.2f}')"
   ]
  },
  {
   "cell_type": "code",
   "execution_count": null,
   "id": "414b051c-68f9-4a71-9d6f-18ce1b1aabbe",
   "metadata": {},
   "outputs": [],
   "source": []
  }
 ],
 "metadata": {
  "kernelspec": {
   "display_name": "Python 3 (ipykernel)",
   "language": "python",
   "name": "python3"
  },
  "language_info": {
   "codemirror_mode": {
    "name": "ipython",
    "version": 3
   },
   "file_extension": ".py",
   "mimetype": "text/x-python",
   "name": "python",
   "nbconvert_exporter": "python",
   "pygments_lexer": "ipython3",
   "version": "3.11.7"
  }
 },
 "nbformat": 4,
 "nbformat_minor": 5
}
