{
 "cells": [
  {
   "cell_type": "code",
   "execution_count": 3,
   "id": "9ca76629-d71d-4f58-89a3-a3e090459094",
   "metadata": {},
   "outputs": [
    {
     "name": "stdout",
     "output_type": "stream",
     "text": [
      "Bagging Model Accuracy:1.00\n"
     ]
    }
   ],
   "source": [
    "from sklearn.ensemble import BaggingClassifier\n",
    "from sklearn.tree import DecisionTreeClassifier\n",
    "from sklearn.datasets import load_iris\n",
    "from sklearn.model_selection import train_test_split\n",
    "from sklearn.metrics import accuracy_score\n",
    "\n",
    "#Load dataset\n",
    "iris=load_iris()\n",
    "X,Y=iris.data,iris.target\n",
    "\n",
    "#train_test split\n",
    "X_train,X_test,Y_train,Y_test=train_test_split(X,Y,test_size=0.3,random_state=42)\n",
    "\n",
    "#Initialize the base model\n",
    "base_model=DecisionTreeClassifier()\n",
    "\n",
    "#Initialize the bagging model for the base_model\n",
    "bagging_model=BaggingClassifier(base_model,n_estimators=50,random_state=42)\n",
    "\n",
    "#Train the Bagging model\n",
    "bagging_model.fit(X_train,Y_train)\n",
    "\n",
    "#Make predicitons\n",
    "Y_pred=bagging_model.predict(X_test)\n",
    "\n",
    "#Evaluation\n",
    "accuracy=accuracy_score(Y_test,Y_pred)\n",
    "print(f'Bagging Model Accuracy:{accuracy:.2f}')"
   ]
  },
  {
   "cell_type": "code",
   "execution_count": null,
   "id": "8fda4950-75bb-4635-a9ac-bd94333b8e49",
   "metadata": {},
   "outputs": [],
   "source": []
  }
 ],
 "metadata": {
  "kernelspec": {
   "display_name": "Python 3 (ipykernel)",
   "language": "python",
   "name": "python3"
  },
  "language_info": {
   "codemirror_mode": {
    "name": "ipython",
    "version": 3
   },
   "file_extension": ".py",
   "mimetype": "text/x-python",
   "name": "python",
   "nbconvert_exporter": "python",
   "pygments_lexer": "ipython3",
   "version": "3.11.7"
  }
 },
 "nbformat": 4,
 "nbformat_minor": 5
}
