{
 "cells": [
  {
   "cell_type": "code",
   "execution_count": 3,
   "id": "33f6e522-d897-4f3c-943a-7cd8c0789281",
   "metadata": {},
   "outputs": [
    {
     "name": "stdout",
     "output_type": "stream",
     "text": [
      "accuracy=1.00\n",
      "[[1]]\n",
      "              precision    recall  f1-score   support\n",
      "\n",
      "          No       1.00      1.00      1.00         1\n",
      "\n",
      "    accuracy                           1.00         1\n",
      "   macro avg       1.00      1.00      1.00         1\n",
      "weighted avg       1.00      1.00      1.00         1\n",
      "\n"
     ]
    }
   ],
   "source": [
    "import pandas as pd\n",
    "from sklearn.model_selection import train_test_split\n",
    "from sklearn.tree import DecisionTreeClassifier\n",
    "from sklearn.metrics import accuracy_score,confusion_matrix,classification_report\n",
    "\n",
    "data={'A':[1,1,2,2],'B':[2,1,2,3],'C':[1,2,2,1],'Y':['No','No','Yes','Yes']}\n",
    "df=pd.DataFrame(data)\n",
    "\n",
    "X=df[['A','B','C']]\n",
    "Y=df['Y']\n",
    "\n",
    "X_train,X_test,Y_train,Y_test=train_test_split(X,Y,test_size=0.2,random_state=42)\n",
    "\n",
    "model=DecisionTreeClassifier()\n",
    "model.fit(X_train,Y_train)\n",
    "\n",
    "Y_pred=model.predict(X_test)\n",
    "\n",
    "accuracy=accuracy_score(Y_test,Y_pred)\n",
    "conf_matrix=confusion_matrix(Y_test,Y_pred)\n",
    "class_report=classification_report(Y_test,Y_pred)\n",
    "\n",
    "print(f'accuracy={accuracy:.2f}')\n",
    "print(conf_matrix)\n",
    "print(class_report)"
   ]
  }
 ],
 "metadata": {
  "kernelspec": {
   "display_name": "Python 3 (ipykernel)",
   "language": "python",
   "name": "python3"
  },
  "language_info": {
   "codemirror_mode": {
    "name": "ipython",
    "version": 3
   },
   "file_extension": ".py",
   "mimetype": "text/x-python",
   "name": "python",
   "nbconvert_exporter": "python",
   "pygments_lexer": "ipython3",
   "version": "3.11.7"
  }
 },
 "nbformat": 4,
 "nbformat_minor": 5
}
