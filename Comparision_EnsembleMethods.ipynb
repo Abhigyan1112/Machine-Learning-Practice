{
 "cells": [
  {
   "cell_type": "code",
   "execution_count": null,
   "id": "a4775f57-d713-4512-88de-2952b739508b",
   "metadata": {},
   "outputs": [],
   "source": [
    "from sklearn.emsemble import BaggingClassifier, RandomForestClassifier, GradientBoostingClassifier, AdaBoostClassifier\n",
    "from sklearn.tree import DecisionTreeClassifier\n",
    "from sklearn.metrics import accuracy_score, f1_score, precision_score, recall_score, roc_auc_score, confusion_matrix\n",
    "from sklearn.datasets import load_iris\n",
    "from sklearn.model_selection import train_test_split, cross_val_score\n",
    "\n",
    "#Load dataset\n",
    "iris=load_iris()\n",
    "X,Y=iris.data,iris.target\n",
    "\n",
    "#train_test split\n",
    "X_train,X_test,Y_train,Y_test=train_test_split(X,Y,test_size=0.3,random_state=42)\n",
    "\n",
    "#Initialize the models\n",
    "\n",
    "bagging_model=BaggingClassifier(base_model,n_estimators=50,random_state=42)\n",
    "\n",
    "#Train the Bagging model\n",
    "bagging_model.fit(X_train,Y_train)\n",
    "\n",
    "#Make predicitons\n",
    "Y_pred=bagging_model.predict(X_test)\n",
    "\n",
    "#Evaluation\n",
    "accuracy=accuracy_score(Y_test,Y_pred)\n",
    "print(f'Bagging Model Accuracy:{accuracy:.2f}')"
   ]
  }
 ],
 "metadata": {
  "kernelspec": {
   "display_name": "Python 3 (ipykernel)",
   "language": "python",
   "name": "python3"
  },
  "language_info": {
   "codemirror_mode": {
    "name": "ipython",
    "version": 3
   },
   "file_extension": ".py",
   "mimetype": "text/x-python",
   "name": "python",
   "nbconvert_exporter": "python",
   "pygments_lexer": "ipython3",
   "version": "3.11.7"
  }
 },
 "nbformat": 4,
 "nbformat_minor": 5
}
