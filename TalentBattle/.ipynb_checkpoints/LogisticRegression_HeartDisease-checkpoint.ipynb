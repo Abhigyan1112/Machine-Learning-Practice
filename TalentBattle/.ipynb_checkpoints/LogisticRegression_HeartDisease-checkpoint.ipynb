{
 "cells": [
  {
   "cell_type": "code",
   "execution_count": 6,
   "id": "afecbf4d-1ad4-402b-99f0-eac6eebe0407",
   "metadata": {},
   "outputs": [],
   "source": [
    "import numpy as np\n",
    "import pandas as pd\n",
    "from sklearn.model_selection import train_test_split\n",
    "from sklearn.metrics import accuracy_score,confusion_matrix,classification_report\n",
    "from sklearn.linear_model import LogisticRegression"
   ]
  },
  {
   "cell_type": "code",
   "execution_count": 38,
   "id": "1582aba0-65d1-48ca-a1fb-c155764ea4c3",
   "metadata": {},
   "outputs": [],
   "source": [
    "data=pd.read_csv(\"/Users/abhigyansharma/Desktop/heart.csv\")"
   ]
  },
  {
   "cell_type": "code",
   "execution_count": 16,
   "id": "b82b89f7-63c1-49b2-be1e-d956b8305685",
   "metadata": {},
   "outputs": [],
   "source": [
    "X=data.drop('target',axis=1)\n",
    "Y=data['target']"
   ]
  },
  {
   "cell_type": "code",
   "execution_count": 20,
   "id": "ea721ce9-0461-4576-ad5f-9769230b1d89",
   "metadata": {},
   "outputs": [],
   "source": [
    "X_train,X_test,Y_train,Y_test=train_test_split(X,Y,test_size=0.2,random_state=42)"
   ]
  },
  {
   "cell_type": "code",
   "execution_count": 32,
   "id": "123c635c-4308-46d3-8f01-99b3bd20f7f8",
   "metadata": {},
   "outputs": [],
   "source": [
    "model=LogisticRegression(max_iter=1000)\n",
    "model.fit(X_train,Y_train)\n",
    "Y_pred=model.predict(X_test)"
   ]
  },
  {
   "cell_type": "code",
   "execution_count": 36,
   "id": "3b01c82e-bc22-4769-b3f4-6c7524ef3f9e",
   "metadata": {},
   "outputs": [
    {
     "name": "stdout",
     "output_type": "stream",
     "text": [
      "Accuracy=0.80\n"
     ]
    }
   ],
   "source": [
    "accuracy=accuracy_score(Y_test,Y_pred)\n",
    "print(f'Accuracy={accuracy:.2f}')"
   ]
  },
  {
   "cell_type": "code",
   "execution_count": 62,
   "id": "30a38515-dbe2-47e3-a12e-cbf76eb92e3b",
   "metadata": {},
   "outputs": [
    {
     "name": "stdout",
     "output_type": "stream",
     "text": [
      "[[73 29]\n",
      " [13 90]]\n"
     ]
    }
   ],
   "source": [
    "conf_matrix=confusion_matrix(Y_test,Y_pred)\n",
    "print(conf_matrix)"
   ]
  },
  {
   "cell_type": "code",
   "execution_count": 64,
   "id": "b840a920-716f-4ffd-9bc1-508e177f6954",
   "metadata": {},
   "outputs": [
    {
     "name": "stdout",
     "output_type": "stream",
     "text": [
      "              precision    recall  f1-score   support\n",
      "\n",
      "           0       0.85      0.72      0.78       102\n",
      "           1       0.76      0.87      0.81       103\n",
      "\n",
      "    accuracy                           0.80       205\n",
      "   macro avg       0.80      0.79      0.79       205\n",
      "weighted avg       0.80      0.80      0.79       205\n",
      "\n"
     ]
    }
   ],
   "source": [
    "class_report=classification_report(Y_test,Y_pred)\n",
    "print(class_report)"
   ]
  }
 ],
 "metadata": {
  "kernelspec": {
   "display_name": "Python 3 (ipykernel)",
   "language": "python",
   "name": "python3"
  },
  "language_info": {
   "codemirror_mode": {
    "name": "ipython",
    "version": 3
   },
   "file_extension": ".py",
   "mimetype": "text/x-python",
   "name": "python",
   "nbconvert_exporter": "python",
   "pygments_lexer": "ipython3",
   "version": "3.11.7"
  }
 },
 "nbformat": 4,
 "nbformat_minor": 5
}
