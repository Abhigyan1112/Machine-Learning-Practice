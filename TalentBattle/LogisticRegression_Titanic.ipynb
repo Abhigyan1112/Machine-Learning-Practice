{
 "cells": [
  {
   "cell_type": "code",
   "execution_count": 23,
   "id": "6b5c6a8a-867e-468f-812c-b20ed34e63cd",
   "metadata": {},
   "outputs": [],
   "source": [
    "import pandas as pd\n",
    "import numpy as np\n",
    "from sklearn.model_selection import train_test_split\n",
    "from sklearn.linear_model import LogisticRegression\n",
    "from sklearn.metrics import accuracy_score,confusion_matrix,classification_report"
   ]
  },
  {
   "cell_type": "code",
   "execution_count": 24,
   "id": "9776e10b-63d5-4a5f-9b3a-258b025569c5",
   "metadata": {},
   "outputs": [],
   "source": [
    "data=pd.read_csv(\"/Users/delta/Documents/Titanic/train.csv\")"
   ]
  },
  {
   "cell_type": "code",
   "execution_count": 25,
   "id": "9d37829e-b6b8-482d-af44-165edd6fd23e",
   "metadata": {},
   "outputs": [
    {
     "name": "stderr",
     "output_type": "stream",
     "text": [
      "/var/folders/9w/0fyqdq9949sbrp6_v4vfw7dw0000gn/T/ipykernel_25360/2179107513.py:1: FutureWarning: A value is trying to be set on a copy of a DataFrame or Series through chained assignment using an inplace method.\n",
      "The behavior will change in pandas 3.0. This inplace method will never work because the intermediate object on which we are setting values always behaves as a copy.\n",
      "\n",
      "For example, when doing 'df[col].method(value, inplace=True)', try using 'df.method({col: value}, inplace=True)' or df[col] = df[col].method(value) instead, to perform the operation inplace on the original object.\n",
      "\n",
      "\n",
      "  data['Age'].fillna(data['Age'].mean(),inplace=True)\n",
      "/var/folders/9w/0fyqdq9949sbrp6_v4vfw7dw0000gn/T/ipykernel_25360/2179107513.py:2: FutureWarning: A value is trying to be set on a copy of a DataFrame or Series through chained assignment using an inplace method.\n",
      "The behavior will change in pandas 3.0. This inplace method will never work because the intermediate object on which we are setting values always behaves as a copy.\n",
      "\n",
      "For example, when doing 'df[col].method(value, inplace=True)', try using 'df.method({col: value}, inplace=True)' or df[col] = df[col].method(value) instead, to perform the operation inplace on the original object.\n",
      "\n",
      "\n",
      "  data['Embarked'].fillna(data['Embarked'].mode()[0],inplace=True)\n"
     ]
    }
   ],
   "source": [
    "data['Age'].fillna(data['Age'].mean(),inplace=True)\n",
    "data['Embarked'].fillna(data['Embarked'].mode()[0],inplace=True)"
   ]
  },
  {
   "cell_type": "code",
   "execution_count": 26,
   "id": "c9ed38e5-4152-48ab-bcdb-d85543f3d717",
   "metadata": {},
   "outputs": [],
   "source": [
    "data.drop(['PassengerId','Name','Ticket','Cabin'],axis=1,inplace=True)"
   ]
  },
  {
   "cell_type": "code",
   "execution_count": 27,
   "id": "aa7812e2-677b-41ae-8f71-f1663b15259f",
   "metadata": {},
   "outputs": [],
   "source": [
    "data=pd.get_dummies(data,columns=['Sex','Embarked'],drop_first=True)"
   ]
  },
  {
   "cell_type": "code",
   "execution_count": 28,
   "id": "3648e9bf-e509-47a5-96fe-1d224dd2ccaf",
   "metadata": {},
   "outputs": [],
   "source": [
    "X=data.drop('Survived',axis=1)\n",
    "Y=data['Survived']"
   ]
  },
  {
   "cell_type": "code",
   "execution_count": 29,
   "id": "b85e9ccc-b589-4133-84b8-69f9db6427b7",
   "metadata": {},
   "outputs": [],
   "source": [
    "X_train,X_test,Y_train,Y_test=train_test_split(X,Y,test_size=0.2,random_state=42)"
   ]
  },
  {
   "cell_type": "code",
   "execution_count": 30,
   "id": "be35f4e4-d3a1-4377-a710-3c9a54c3db3c",
   "metadata": {},
   "outputs": [],
   "source": [
    "model=LogisticRegression(max_iter=400)\n",
    "model.fit(X_train,Y_train)\n",
    "Y_pred=model.predict(X_test)"
   ]
  },
  {
   "cell_type": "code",
   "execution_count": 31,
   "id": "d243b1e0-1ec6-4b80-9aca-0aa7fe777a50",
   "metadata": {},
   "outputs": [
    {
     "name": "stdout",
     "output_type": "stream",
     "text": [
      "Accuracy=0.81\n"
     ]
    }
   ],
   "source": [
    "accuracy= accuracy_score(Y_test,Y_pred)\n",
    "print(f'Accuracy={accuracy:.2f}')"
   ]
  },
  {
   "cell_type": "code",
   "execution_count": 32,
   "id": "4bb60ad2-41c9-4ccd-9527-8503db1340ae",
   "metadata": {},
   "outputs": [
    {
     "name": "stdout",
     "output_type": "stream",
     "text": [
      "Confusion Matrix\n",
      "[[90 15]\n",
      " [19 55]]\n"
     ]
    }
   ],
   "source": [
    "conf_matrix=confusion_matrix(Y_test,Y_pred)\n",
    "print(\"Confusion Matrix\")\n",
    "print(conf_matrix)"
   ]
  },
  {
   "cell_type": "code",
   "execution_count": 33,
   "id": "d1aa8b43-8bc5-41df-937e-efe18766207c",
   "metadata": {},
   "outputs": [
    {
     "name": "stdout",
     "output_type": "stream",
     "text": [
      "              precision    recall  f1-score   support\n",
      "\n",
      "           0       0.83      0.86      0.84       105\n",
      "           1       0.79      0.74      0.76        74\n",
      "\n",
      "    accuracy                           0.81       179\n",
      "   macro avg       0.81      0.80      0.80       179\n",
      "weighted avg       0.81      0.81      0.81       179\n",
      "\n"
     ]
    }
   ],
   "source": [
    "class_report=classification_report(Y_test,Y_pred)\n",
    "print(class_report)"
   ]
  }
 ],
 "metadata": {
  "kernelspec": {
   "display_name": "Python 3 (ipykernel)",
   "language": "python",
   "name": "python3"
  },
  "language_info": {
   "codemirror_mode": {
    "name": "ipython",
    "version": 3
   },
   "file_extension": ".py",
   "mimetype": "text/x-python",
   "name": "python",
   "nbconvert_exporter": "python",
   "pygments_lexer": "ipython3",
   "version": "3.12.4"
  }
 },
 "nbformat": 4,
 "nbformat_minor": 5
}
